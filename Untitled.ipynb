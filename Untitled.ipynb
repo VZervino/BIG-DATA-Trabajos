{
 "cells": [
  {
   "cell_type": "code",
   "execution_count": null,
   "id": "178db6ac-0e33-4b47-bf7a-0419b1707c08",
   "metadata": {},
   "outputs": [],
   "source": [
    "import csv\n",
    "with open(\"Base Airbnb NY.csv\", 'r') as file:\n",
    "    archivo = csv.reader(file)"
   ]
  },
  {
   "cell_type": "code",
   "execution_count": null,
   "id": "25ceb5aa",
   "metadata": {},
   "outputs": [],
   "source": [
    "#Grupo 3: Sofia Ellenberg, Vicente Zervino y Sophie Schulzen \n",
    "\n",
    "#Parte I: Limpieza de la base\n",
    "#La base de datos provista contiene informacio ́n sobre oferentes de Airbnb en la ciudad de Nueva York.\n",
    "#1. Realicen una limpieza de la base."
   ]
  }
 ],
 "metadata": {
  "kernelspec": {
   "display_name": "Python 3 (ipykernel)",
   "language": "python",
   "name": "python3"
  },
  "language_info": {
   "codemirror_mode": {
    "name": "ipython",
    "version": 3
   },
   "file_extension": ".py",
   "mimetype": "text/x-python",
   "name": "python",
   "nbconvert_exporter": "python",
   "pygments_lexer": "ipython3",
   "version": "3.11.7"
  }
 },
 "nbformat": 4,
 "nbformat_minor": 5
}
